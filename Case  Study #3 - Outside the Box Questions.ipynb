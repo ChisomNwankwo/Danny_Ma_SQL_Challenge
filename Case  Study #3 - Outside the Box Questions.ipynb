{
 "cells": [
  {
   "cell_type": "markdown",
   "id": "47c11338",
   "metadata": {},
   "source": [
    "The following are open ended questions which might be asked during a technical interview for this case study - there are no right or wrong answers, but answers that make sense from both a technical and a business perspective make an amazing impression!\n",
    "\n",
    "### 1. How would you calculate the rate of growth for Foodie-Fi?\n",
    "\n",
    "To answer this question, I carried a query to find out the monthly growth rate on the available data. From the result, the growth in Foodie_fi is quite poor and can honestly be better. As the year progresses, i could see significant drop in the revenue.\n",
    "\n",
    "### 2. What key metrics would you recommend Foodie-Fi management to track over time to assess performance of their overall business?\n",
    "\n",
    "\n",
    "What are some key customer journeys or experiences that you would analyse further to improve customer retention?\n",
    "If the Foodie-Fi team were to create an exit survey shown to customers who wish to cancel their subscription, what questions would you include in the survey?\n",
    "What business levers could the Foodie-Fi team use to reduce the customer churn rate? How would you validate the effectiveness of your ideas?"
   ]
  }
 ],
 "metadata": {
  "kernelspec": {
   "display_name": "Python 3 (ipykernel)",
   "language": "python",
   "name": "python3"
  },
  "language_info": {
   "codemirror_mode": {
    "name": "ipython",
    "version": 3
   },
   "file_extension": ".py",
   "mimetype": "text/x-python",
   "name": "python",
   "nbconvert_exporter": "python",
   "pygments_lexer": "ipython3",
   "version": "3.9.12"
  }
 },
 "nbformat": 4,
 "nbformat_minor": 5
}
