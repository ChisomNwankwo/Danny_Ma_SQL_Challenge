{
 "cells": [
  {
   "cell_type": "markdown",
   "id": "47c11338",
   "metadata": {},
   "source": [
    "The following are open ended questions which might be asked during a technical interview for this case study - there are no right or wrong answers, but answers that make sense from both a technical and a business perspective make an amazing impression!\n",
    "\n",
    "### 1. How would you calculate the rate of growth for Foodie-Fi?\n",
    "\n",
    "To answer this question, I carried a query to find out the monthly growth rate on the available data. From the result, the growth in Foodie_fi is quite poor and can honestly be better. As the year progresses, i could see significant drop in the revenue.\n",
    "\n",
    "### 2. What key metrics would you recommend Foodie-Fi management to track over time to assess performance of their overall business?\n",
    "\n",
    "I recommend paying close attention to the following meterics:\n",
    "\n",
    "- **Revenue and Revenue Growth**: This includes monitoring monthly or yearly revenue and assessing the rate of growth. Revenue is a fundamental indicator of business health as it will help the company know their growth rate\n",
    "\n",
    "- **Churn Rate**: The company should pay close attention to the rate at which customers cancel their subscriptions. A high churn rate can indicate customer dissatisfaction or a need for improved retention strategies.\n",
    "\n",
    "### 3: What are some key customer journeys or experiences that you would analyse further to improve customer retention?\n",
    "\n",
    "I will be carrying out further analysis on the company plans, i am interested in understanding the customers' preferred plan and why. \n",
    "\n",
    "I will also do some analysis using the payment table I created in section C. I am interested in knowing the useful insights i can get from that table about our data.\n",
    "\n",
    "### 4: If the Foodie-Fi team were to create an exit survey shown to customers who wish to cancel their subscription, what questions would you include in the survey?\n",
    "\n",
    "- how long have you used foodie_fi services?\n",
    "- what plan did you enjoy the most?\n",
    "- what is your reason for deciding to churn?\n",
    "- Do you ahve any suggestions on how we can serve you better?\n",
    "\n",
    "### 5: What business levers could the Foodie-Fi team use to reduce the customer churn rate? How would you validate the effectiveness of your ideas?\n",
    "For now, i really do not know. I will have to think about this and get back to it later!"
   ]
  }
 ],
 "metadata": {
  "kernelspec": {
   "display_name": "Python 3 (ipykernel)",
   "language": "python",
   "name": "python3"
  },
  "language_info": {
   "codemirror_mode": {
    "name": "ipython",
    "version": 3
   },
   "file_extension": ".py",
   "mimetype": "text/x-python",
   "name": "python",
   "nbconvert_exporter": "python",
   "pygments_lexer": "ipython3",
   "version": "3.9.12"
  }
 },
 "nbformat": 4,
 "nbformat_minor": 5
}
